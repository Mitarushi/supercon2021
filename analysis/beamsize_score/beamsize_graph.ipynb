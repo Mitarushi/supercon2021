{
 "cells": [
  {
   "cell_type": "code",
   "execution_count": 1,
   "id": "8a409eeb",
   "metadata": {},
   "outputs": [],
   "source": [
    "import os\n",
    "import subprocess\n",
    "import optuna\n",
    "from concurrent.futures import ThreadPoolExecutor\n",
    "\n",
    "\n",
    "input_file = \"../../testcase/inputs/\"\n",
    "executable_flie = \"a.exe\""
   ]
  },
  {
   "cell_type": "code",
   "execution_count": 4,
   "id": "b1487a9b",
   "metadata": {},
   "outputs": [],
   "source": [
    "def get_count(f, beamsize):\n",
    "    output = subprocess.run(f\"{executable_flie} {beamsize} < {os.path.join(input_file, f)}\"\n",
    "                            , shell=True, stdout=subprocess.PIPE).stdout.decode().replace(\"\\r\", \"\")\n",
    "    output_line = output.split(\"\\n\")\n",
    "    if output_line[0] == \"NO\":\n",
    "        return 0\n",
    "    return int(output_line[1])\n",
    "\n",
    "def evaluter(params):\n",
    "    with ThreadPoolExecutor(max_workers=11) as pool:\n",
    "        futures = [pool.submit(get_count, f, params) for f in os.listdir(input_file)]\n",
    "        cnt = sum(f.result() for f in futures)\n",
    "        \n",
    "    return cnt\n"
   ]
  },
  {
   "cell_type": "code",
   "execution_count": 3,
   "id": "7bb1ec13",
   "metadata": {},
   "outputs": [
    {
     "data": {
      "text/plain": [
       "1538"
      ]
     },
     "execution_count": 3,
     "metadata": {},
     "output_type": "execute_result"
    }
   ],
   "source": [
    "evaluter(70)"
   ]
  },
  {
   "cell_type": "code",
   "execution_count": 7,
   "id": "498c1bee",
   "metadata": {},
   "outputs": [
    {
     "name": "stdout",
     "output_type": "stream",
     "text": [
      "10 1622\n",
      "20 1582\n",
      "30 1571\n",
      "40 1559\n",
      "50 1545\n",
      "60 1539\n",
      "70 1538\n",
      "80 1538\n",
      "90 1526\n",
      "100 1518\n",
      "110 1518\n",
      "120 1518\n",
      "130 1518\n",
      "140 1518\n",
      "150 1521\n",
      "160 1513\n",
      "170 1510\n",
      "180 1509\n",
      "190 1508\n",
      "200 1506\n",
      "210 1504\n",
      "220 1505\n",
      "230 1506\n",
      "240 1506\n",
      "250 1504\n",
      "260 1503\n",
      "270 1503\n",
      "280 1500\n",
      "290 1500\n",
      "300 1498\n",
      "310 1498\n",
      "320 1497\n",
      "330 1497\n",
      "340 1497\n",
      "350 1497\n",
      "360 1497\n",
      "370 1497\n",
      "380 1495\n",
      "390 1495\n",
      "400 1495\n",
      "410 1494\n",
      "420 1494\n",
      "430 1494\n",
      "440 1495\n",
      "450 1491\n",
      "460 1491\n",
      "470 1491\n",
      "480 1489\n",
      "490 1487\n",
      "500 1488\n",
      "510 1489\n",
      "520 1488\n",
      "530 1487\n",
      "540 1485\n",
      "550 1485\n",
      "560 1485\n",
      "570 1484\n",
      "580 1483\n",
      "590 1483\n",
      "600 1483\n",
      "610 1482\n",
      "620 1482\n",
      "630 1482\n",
      "640 1482\n",
      "650 1482\n",
      "660 1484\n",
      "670 1485\n",
      "680 1485\n",
      "690 1486\n",
      "700 1486\n",
      "710 1486\n",
      "720 1485\n",
      "730 1485\n",
      "740 1484\n",
      "750 1482\n",
      "760 1482\n",
      "770 1480\n",
      "780 1480\n",
      "790 1480\n",
      "800 1479\n",
      "810 1479\n",
      "820 1479\n",
      "830 1477\n",
      "840 1477\n",
      "850 1476\n",
      "860 1477\n",
      "870 1478\n",
      "880 1478\n",
      "890 1478\n",
      "900 1478\n",
      "910 1477\n",
      "920 1477\n",
      "930 1477\n",
      "940 1477\n",
      "950 1476\n",
      "960 1476\n",
      "970 1475\n",
      "980 1478\n",
      "990 1478\n",
      "1000 1477\n"
     ]
    }
   ],
   "source": [
    "result = []\n",
    "for i in range(10, 1001, 10):\n",
    "    count = evaluter(i)\n",
    "    result.append((i, count))\n",
    "    print(i, count)"
   ]
  }
 ],
 "metadata": {
  "kernelspec": {
   "display_name": "Python 3",
   "language": "python",
   "name": "python3"
  },
  "language_info": {
   "codemirror_mode": {
    "name": "ipython",
    "version": 3
   },
   "file_extension": ".py",
   "mimetype": "text/x-python",
   "name": "python",
   "nbconvert_exporter": "python",
   "pygments_lexer": "ipython3",
   "version": "3.9.5"
  }
 },
 "nbformat": 4,
 "nbformat_minor": 5
}
